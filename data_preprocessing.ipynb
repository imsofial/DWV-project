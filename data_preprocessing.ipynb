{
 "cells": [
  {
   "cell_type": "code",
   "id": "initial_id",
   "metadata": {
    "collapsed": true,
    "ExecuteTime": {
     "end_time": "2025-03-11T06:16:38.876790Z",
     "start_time": "2025-03-11T06:16:38.760454Z"
    }
   },
   "source": [
    "import pandas as pd\n",
    "\n",
    "data = pd.read_csv('lung-cancer-dataset/dataset.csv')\n",
    "\n",
    "print(data.head())\n"
   ],
   "outputs": [
    {
     "name": "stdout",
     "output_type": "stream",
     "text": [
      "  GENDER  AGE  SMOKING  YELLOW_FINGERS  ANXIETY  PEER_PRESSURE  \\\n",
      "0      M   65        1               1        1              2   \n",
      "1      F   55        1               2        2              1   \n",
      "2      F   78        2               2        1              1   \n",
      "3      M   60        2               1        1              1   \n",
      "4      F   80        1               1        2              1   \n",
      "\n",
      "   CHRONIC_DISEASE  FATIGUE  ALLERGY  WHEEZING  ALCOHOL_CONSUMING  COUGHING  \\\n",
      "0                2        1        2         2                  2         2   \n",
      "1                1        2        2         2                  1         1   \n",
      "2                1        2        1         2                  1         1   \n",
      "3                2        1        2         1                  1         2   \n",
      "4                1        2        1         2                  1         1   \n",
      "\n",
      "   SHORTNESS_OF_BREATH  SWALLOWING_DIFFICULTY  CHEST_PAIN LUNG_CANCER  \n",
      "0                    2                      2           1          NO  \n",
      "1                    1                      2           2          NO  \n",
      "2                    2                      1           1         YES  \n",
      "3                    1                      2           2         YES  \n",
      "4                    1                      1           2          NO  \n"
     ]
    }
   ],
   "execution_count": 17
  },
  {
   "metadata": {
    "ExecuteTime": {
     "end_time": "2025-03-11T06:16:41.667386Z",
     "start_time": "2025-03-11T06:16:41.651639Z"
    }
   },
   "cell_type": "code",
   "source": "print(data.isnull().sum())",
   "id": "8b89593a0882455d",
   "outputs": [
    {
     "name": "stdout",
     "output_type": "stream",
     "text": [
      "GENDER                   0\n",
      "AGE                      0\n",
      "SMOKING                  0\n",
      "YELLOW_FINGERS           0\n",
      "ANXIETY                  0\n",
      "PEER_PRESSURE            0\n",
      "CHRONIC_DISEASE          0\n",
      "FATIGUE                  0\n",
      "ALLERGY                  0\n",
      "WHEEZING                 0\n",
      "ALCOHOL_CONSUMING        0\n",
      "COUGHING                 0\n",
      "SHORTNESS_OF_BREATH      0\n",
      "SWALLOWING_DIFFICULTY    0\n",
      "CHEST_PAIN               0\n",
      "LUNG_CANCER              0\n",
      "dtype: int64\n"
     ]
    }
   ],
   "execution_count": 18
  },
  {
   "metadata": {
    "ExecuteTime": {
     "end_time": "2025-03-11T06:16:47.325321Z",
     "start_time": "2025-03-11T06:16:47.303255Z"
    }
   },
   "cell_type": "code",
   "source": [
    "data[\"GENDER\"] = data[\"GENDER\"].map({\"M\": 1, \"F\": 2})\n",
    "\n",
    "data[\"LUNG_CANCER\"] = data[\"LUNG_CANCER\"].map({\"YES\": 1, \"NO\": 2})\n",
    "\n",
    "print(data.head())"
   ],
   "id": "238ddf00832bc64",
   "outputs": [
    {
     "name": "stdout",
     "output_type": "stream",
     "text": [
      "   GENDER  AGE  SMOKING  YELLOW_FINGERS  ANXIETY  PEER_PRESSURE  \\\n",
      "0       1   65        1               1        1              2   \n",
      "1       2   55        1               2        2              1   \n",
      "2       2   78        2               2        1              1   \n",
      "3       1   60        2               1        1              1   \n",
      "4       2   80        1               1        2              1   \n",
      "\n",
      "   CHRONIC_DISEASE  FATIGUE  ALLERGY  WHEEZING  ALCOHOL_CONSUMING  COUGHING  \\\n",
      "0                2        1        2         2                  2         2   \n",
      "1                1        2        2         2                  1         1   \n",
      "2                1        2        1         2                  1         1   \n",
      "3                2        1        2         1                  1         2   \n",
      "4                1        2        1         2                  1         1   \n",
      "\n",
      "   SHORTNESS_OF_BREATH  SWALLOWING_DIFFICULTY  CHEST_PAIN  LUNG_CANCER  \n",
      "0                    2                      2           1            2  \n",
      "1                    1                      2           2            2  \n",
      "2                    2                      1           1            1  \n",
      "3                    1                      2           2            1  \n",
      "4                    1                      1           2            2  \n"
     ]
    }
   ],
   "execution_count": 19
  },
  {
   "metadata": {
    "ExecuteTime": {
     "end_time": "2025-03-11T06:27:47.053292Z",
     "start_time": "2025-03-11T06:27:47.040697Z"
    }
   },
   "cell_type": "code",
   "source": [
    "from sklearn.preprocessing import StandardScaler\n",
    "\n",
    "scaler = StandardScaler()\n",
    "\n",
    "numeric_columns = data.columns[:] \n",
    "data[numeric_columns] = scaler.fit_transform(data[numeric_columns])"
   ],
   "id": "251ade781d74430a",
   "outputs": [],
   "execution_count": 26
  },
  {
   "metadata": {
    "ExecuteTime": {
     "end_time": "2025-03-11T06:27:47.810512Z",
     "start_time": "2025-03-11T06:27:47.758507Z"
    }
   },
   "cell_type": "code",
   "source": [
    "data.to_csv('cleaned_lung_cancer_data.csv', index=False)\n",
    "data.to_json('cleaned_lung_cancer_data.json',  orient='records')"
   ],
   "id": "1acad94bff4ff445",
   "outputs": [],
   "execution_count": 27
  },
  {
   "metadata": {
    "ExecuteTime": {
     "end_time": "2025-02-26T19:14:17.619799Z",
     "start_time": "2025-02-26T19:14:17.615462Z"
    }
   },
   "cell_type": "code",
   "source": "",
   "id": "c66b9f28b279f6dc",
   "outputs": [],
   "execution_count": 16
  }
 ],
 "metadata": {
  "kernelspec": {
   "display_name": "Python 3",
   "language": "python",
   "name": "python3"
  },
  "language_info": {
   "codemirror_mode": {
    "name": "ipython",
    "version": 2
   },
   "file_extension": ".py",
   "mimetype": "text/x-python",
   "name": "python",
   "nbconvert_exporter": "python",
   "pygments_lexer": "ipython2",
   "version": "2.7.6"
  }
 },
 "nbformat": 4,
 "nbformat_minor": 5
}
